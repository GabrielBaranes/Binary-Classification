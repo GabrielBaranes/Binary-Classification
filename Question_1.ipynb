{
 "cells": [
  {
   "cell_type": "code",
   "execution_count": 1,
   "id": "dc8cb1b9",
   "metadata": {},
   "outputs": [],
   "source": [
    "import tensorflow as tf\n",
    "import numpy as np\n",
    "import pandas as pd\n",
    "import matplotlib.pyplot as plt\n",
    "import os\n",
    "from os import getcwd\n",
    "from os import listdir\n",
    "from matplotlib.image import imread\n",
    "import cv2\n",
    "from tensorflow.keras.models import Sequential\n",
    "from tensorflow.keras.layers import Dense, Conv2D, MaxPooling2D, Dropout, Flatten\n",
    "import random\n",
    "\n",
    "import numpy as np\n",
    "from tensorflow.keras import *\n",
    "from keras.preprocessing.image import ImageDataGenerator\n",
    "import matplotlib.pyplot as plt\n",
    "import seaborn as sns"
   ]
  },
  {
   "cell_type": "code",
   "execution_count": 2,
   "id": "ff55df74",
   "metadata": {},
   "outputs": [],
   "source": [
    "path='C:/Users/edbar/Desktop/Illinois Institute of Technology/1 er Semestre/Deep Learning/devoirs/HW4/essais/archive/dog vs cat/dataset/x_training_set/cats/cat.1.jpg'\n",
    "cath = cv2.imread(path)"
   ]
  },
  {
   "cell_type": "code",
   "execution_count": 3,
   "id": "1668bcfc",
   "metadata": {},
   "outputs": [],
   "source": [
    "def enr_des_donnees(path,path_test, label):\n",
    "    x_train_image = []\n",
    "    x_train_label = []\n",
    "    test_image = []\n",
    "    test_label = []\n",
    "    for i in os.listdir(path):\n",
    "        img = cv2.imread(path + '/' + i)\n",
    "        res = cv2.resize(img, dsize=(128,128),interpolation=cv2.INTER_CUBIC) \n",
    "        gray = cv2.cvtColor(res, cv2.COLOR_BGR2GRAY) # Converting to grayscale\n",
    "        x_train_image.append(gray)\n",
    "        x_train_label.append(label)\n",
    "    for j in os.listdir(path_test):\n",
    "        img2 = cv2.imread(path_test + '/' + j)\n",
    "        res2 = cv2.resize(img, dsize = (128,128), interpolation = cv2.INTER_CUBIC)\n",
    "        gray2 = cv2.cvtColor(res, cv2.COLOR_BGR2GRAY)\n",
    "        test_image.append(gray2)\n",
    "        test_label.append(label)\n",
    "    return x_train_image, x_train_label, test_image, test_label"
   ]
  },
  {
   "cell_type": "code",
   "execution_count": 4,
   "id": "534c356d",
   "metadata": {},
   "outputs": [],
   "source": [
    "x_train = []\n",
    "x_test = []\n",
    "y_train = []\n",
    "y_test = []\n",
    "\n",
    "\n",
    "#train = []\n",
    "#test = []\n",
    "#trainlabel = []\n",
    "#testlabel = []\n",
    "\n",
    "\n",
    "#cats\n",
    "train_image, train_label, test_image, test_label = enr_des_donnees('C:/Users/edbar/Desktop/Illinois Institute of Technology/1 er Semestre/Deep Learning/devoirs/HW4/essais/archive/dog vs cat/dataset/training_set/cats','C:/Users/edbar/Desktop/Illinois Institute of Technology/1 er Semestre/Deep Learning/devoirs/HW4/essais/archive/dog vs cat/dataset/test_set/cats', 0)\n",
    "x_train.extend(train_image)\n",
    "y_train.extend(train_label)\n",
    "x_test.extend(test_image)\n",
    "y_test.extend(test_label)\n",
    "\n",
    "#dogs \n",
    "train_image, train_label, test_image, test_label = enr_des_donnees('C:/Users/edbar/Desktop/Illinois Institute of Technology/1 er Semestre/Deep Learning/devoirs/HW4/essais/archive/dog vs cat/dataset/training_set/dogs','C:/Users/edbar/Desktop/Illinois Institute of Technology/1 er Semestre/Deep Learning/devoirs/HW4/essais/archive/dog vs cat/dataset/test_set/dogs', 1)\n",
    "x_train.extend(train_image)\n",
    "y_train.extend(train_label)\n",
    "x_test.extend(test_image)\n",
    "y_test.extend(test_label)\n",
    "\n",
    "x_train = np.array(x_train)\n",
    "y_train = np.array(y_train)\n",
    "x_test = np.array(x_test)\n",
    "y_test = np.array(y_test)"
   ]
  },
  {
   "cell_type": "code",
   "execution_count": 5,
   "id": "4bddb022",
   "metadata": {},
   "outputs": [
    {
     "name": "stdout",
     "output_type": "stream",
     "text": [
      "4000\n",
      "4000\n",
      "600\n",
      "600\n"
     ]
    }
   ],
   "source": [
    "print(len(x_train))\n",
    "print(len(y_train))\n",
    "print(len(x_test))\n",
    "print(len(y_test))"
   ]
  },
  {
   "cell_type": "code",
   "execution_count": 6,
   "id": "34470227",
   "metadata": {},
   "outputs": [],
   "source": [
    "x_val=x_train[:400]\n",
    "x_train=x_train[400:]\n",
    "\n",
    "y_val=y_train[:400]\n",
    "y_train=y_train[400:]"
   ]
  },
  {
   "cell_type": "code",
   "execution_count": 7,
   "id": "17b057ee",
   "metadata": {},
   "outputs": [
    {
     "name": "stdout",
     "output_type": "stream",
     "text": [
      "400\n",
      "3600\n",
      "600\n",
      "\n",
      "400\n",
      "3600\n",
      "600\n"
     ]
    }
   ],
   "source": [
    "print(len(x_val))\n",
    "print(len(x_train))\n",
    "print(len(x_test))\n",
    "print(\"\")\n",
    "print(len(y_val))\n",
    "print(len(y_train))\n",
    "print(len(y_test))"
   ]
  },
  {
   "cell_type": "code",
   "execution_count": 8,
   "id": "dba76247",
   "metadata": {},
   "outputs": [],
   "source": [
    "x_train = x_train.reshape(x_train.shape[0], 128,128,1).astype('float32')\n",
    "x_test = x_test.reshape(x_test.shape[0], 128, 128, 1).astype('float32')\n",
    "x_val=x_val.reshape(x_val.shape[0], 128,128,1).astype('float32')\n",
    "x_train = x_train/255.0\n",
    "x_test = x_test/255.0\n",
    "x_val=x_val/255.0"
   ]
  },
  {
   "cell_type": "code",
   "execution_count": 21,
   "id": "91f4cfbf",
   "metadata": {
    "scrolled": true
   },
   "outputs": [
    {
     "name": "stdout",
     "output_type": "stream",
     "text": [
      "Model: \"sequential_1\"\n",
      "_________________________________________________________________\n",
      " Layer (type)                Output Shape              Param #   \n",
      "=================================================================\n",
      " conv2d_4 (Conv2D)           (None, 126, 126, 32)      320       \n",
      "                                                                 \n",
      " max_pooling2d_4 (MaxPooling  (None, 63, 63, 32)       0         \n",
      " 2D)                                                             \n",
      "                                                                 \n",
      " conv2d_5 (Conv2D)           (None, 61, 61, 64)        18496     \n",
      "                                                                 \n",
      " max_pooling2d_5 (MaxPooling  (None, 30, 30, 64)       0         \n",
      " 2D)                                                             \n",
      "                                                                 \n",
      " conv2d_6 (Conv2D)           (None, 28, 28, 128)       73856     \n",
      "                                                                 \n",
      " max_pooling2d_6 (MaxPooling  (None, 14, 14, 128)      0         \n",
      " 2D)                                                             \n",
      "                                                                 \n",
      " conv2d_7 (Conv2D)           (None, 12, 12, 128)       147584    \n",
      "                                                                 \n",
      " max_pooling2d_7 (MaxPooling  (None, 6, 6, 128)        0         \n",
      " 2D)                                                             \n",
      "                                                                 \n",
      " flatten_1 (Flatten)         (None, 4608)              0         \n",
      "                                                                 \n",
      " dense_2 (Dense)             (None, 512)               2359808   \n",
      "                                                                 \n",
      " dense_3 (Dense)             (None, 1)                 513       \n",
      "                                                                 \n",
      "=================================================================\n",
      "Total params: 2,600,577\n",
      "Trainable params: 2,600,577\n",
      "Non-trainable params: 0\n",
      "_________________________________________________________________\n"
     ]
    }
   ],
   "source": [
    "model = models.Sequential()\n",
    "model.add(layers.Conv2D(32, (3,3), activation='relu', input_shape=(128, 128, 1)))\n",
    "model.add(layers.MaxPooling2D(2,2))\n",
    "model.add(layers.Conv2D(64, (3,3), activation='relu'))\n",
    "model.add(layers.MaxPooling2D(2,2))\n",
    "model.add(layers.Conv2D(128, (3,3), activation='relu'))\n",
    "model.add(layers.MaxPooling2D(2,2))\n",
    "model.add(layers.Conv2D(128, (3,3), activation='relu'))\n",
    "model.add(layers.MaxPooling2D(2,2))\n",
    "model.add(layers.Flatten())\n",
    "model.add(layers.Dense(512, activation='relu'))\n",
    "model.add(layers.Dense(1, activation='sigmoid'))\n",
    "model.summary()"
   ]
  },
  {
   "cell_type": "code",
   "execution_count": 22,
   "id": "31f869d3",
   "metadata": {},
   "outputs": [],
   "source": [
    "model.compile(loss=\"binary_crossentropy\", \n",
    "              optimizer=optimizers.RMSprop(learning_rate=1e-4), \n",
    "              metrics=[\"accuracy\"])"
   ]
  },
  {
   "cell_type": "code",
   "execution_count": 23,
   "id": "a78b50c5",
   "metadata": {},
   "outputs": [
    {
     "name": "stdout",
     "output_type": "stream",
     "text": [
      "Epoch 1/20\n",
      "113/113 [==============================] - 29s 254ms/step - loss: 0.6797 - accuracy: 0.5592 - val_loss: 0.8844 - val_accuracy: 0.0050\n",
      "Epoch 2/20\n",
      "113/113 [==============================] - 36s 316ms/step - loss: 0.6533 - accuracy: 0.6103 - val_loss: 0.6812 - val_accuracy: 0.5900\n",
      "Epoch 3/20\n",
      "113/113 [==============================] - 35s 313ms/step - loss: 0.6198 - accuracy: 0.6608 - val_loss: 0.6602 - val_accuracy: 0.6250\n",
      "Epoch 4/20\n",
      "113/113 [==============================] - 35s 314ms/step - loss: 0.5873 - accuracy: 0.6883 - val_loss: 1.0317 - val_accuracy: 0.2375\n",
      "Epoch 5/20\n",
      "113/113 [==============================] - 42s 370ms/step - loss: 0.5541 - accuracy: 0.7172 - val_loss: 0.9303 - val_accuracy: 0.4225\n",
      "Epoch 6/20\n",
      "113/113 [==============================] - 44s 388ms/step - loss: 0.5253 - accuracy: 0.7406 - val_loss: 0.5164 - val_accuracy: 0.7625\n",
      "Epoch 7/20\n",
      "113/113 [==============================] - 43s 377ms/step - loss: 0.4985 - accuracy: 0.7631 - val_loss: 1.4539 - val_accuracy: 0.2350\n",
      "Epoch 8/20\n",
      "113/113 [==============================] - 42s 369ms/step - loss: 0.4810 - accuracy: 0.7728 - val_loss: 0.7337 - val_accuracy: 0.6050\n",
      "Epoch 9/20\n",
      "113/113 [==============================] - 39s 346ms/step - loss: 0.4616 - accuracy: 0.7842 - val_loss: 0.8901 - val_accuracy: 0.5225\n",
      "Epoch 10/20\n",
      "113/113 [==============================] - 39s 344ms/step - loss: 0.4422 - accuracy: 0.7911 - val_loss: 0.8049 - val_accuracy: 0.5700\n",
      "Epoch 11/20\n",
      "113/113 [==============================] - 41s 363ms/step - loss: 0.4242 - accuracy: 0.8036 - val_loss: 0.4768 - val_accuracy: 0.7775\n",
      "Epoch 12/20\n",
      "113/113 [==============================] - 42s 374ms/step - loss: 0.4056 - accuracy: 0.8178 - val_loss: 0.6104 - val_accuracy: 0.6975\n",
      "Epoch 13/20\n",
      "113/113 [==============================] - 39s 343ms/step - loss: 0.3902 - accuracy: 0.8253 - val_loss: 0.6317 - val_accuracy: 0.7075\n",
      "Epoch 14/20\n",
      "113/113 [==============================] - 39s 349ms/step - loss: 0.3740 - accuracy: 0.8322 - val_loss: 0.6386 - val_accuracy: 0.7075\n",
      "Epoch 15/20\n",
      "113/113 [==============================] - 40s 351ms/step - loss: 0.3636 - accuracy: 0.8364 - val_loss: 0.6647 - val_accuracy: 0.6900\n",
      "Epoch 16/20\n",
      "113/113 [==============================] - 39s 349ms/step - loss: 0.3430 - accuracy: 0.8506 - val_loss: 0.4920 - val_accuracy: 0.7825\n",
      "Epoch 17/20\n",
      "113/113 [==============================] - 39s 342ms/step - loss: 0.3307 - accuracy: 0.8517 - val_loss: 0.8018 - val_accuracy: 0.6325\n",
      "Epoch 18/20\n",
      "113/113 [==============================] - 39s 345ms/step - loss: 0.3128 - accuracy: 0.8656 - val_loss: 0.8709 - val_accuracy: 0.6100\n",
      "Epoch 19/20\n",
      "113/113 [==============================] - 39s 345ms/step - loss: 0.2964 - accuracy: 0.8736 - val_loss: 0.6081 - val_accuracy: 0.7425\n",
      "Epoch 20/20\n",
      "113/113 [==============================] - 39s 345ms/step - loss: 0.2740 - accuracy: 0.8844 - val_loss: 0.5094 - val_accuracy: 0.7900\n"
     ]
    }
   ],
   "source": [
    "history = model.fit(x_train, \n",
    "                    y_train,\n",
    "                    epochs = 20,\n",
    "                    validation_data = (x_val, y_val),\n",
    "                    verbose =1)"
   ]
  },
  {
   "cell_type": "code",
   "execution_count": 25,
   "id": "a9629488",
   "metadata": {
    "scrolled": true
   },
   "outputs": [
    {
     "name": "stdout",
     "output_type": "stream",
     "text": [
      "200/200 - 2s - loss: 0.0619 - accuracy: 1.0000 - 2s/epoch - 12ms/step\n"
     ]
    },
    {
     "data": {
      "text/plain": [
       "[0.06186976656317711, 1.0]"
      ]
     },
     "execution_count": 25,
     "metadata": {},
     "output_type": "execute_result"
    }
   ],
   "source": [
    "model.evaluate(x_test, y_test, batch_size=3, verbose=2)"
   ]
  },
  {
   "cell_type": "code",
   "execution_count": 70,
   "id": "42d485cd",
   "metadata": {},
   "outputs": [
    {
     "data": {
      "image/png": "[encoded data removed]",
      "text/plain": [
       "<Figure size 432x288 with 1 Axes>"
      ]
     },
     "metadata": {
      "needs_background": "light"
     },
     "output_type": "display_data"
    },
    {
     "data": {
      "image/png": "[encoded data removed]",
      "text/plain": [
       "<Figure size 432x288 with 1 Axes>"
      ]
     },
     "metadata": {
      "needs_background": "light"
     },
     "output_type": "display_data"
    }
   ],
   "source": [
    "import matplotlib.pyplot as plt\n",
    "acc=history.history['accuracy']\n",
    "val_acc=history.history['val_accuracy']\n",
    "loss=history.history['loss']\n",
    "val_loss=history.history['val_loss']\n",
    "\n",
    "epochs=range(1, len(acc)+1)\n",
    "\n",
    "#plot accuracy:\n",
    "plt.plot(epochs, acc, 'bo', label='Training acc')\n",
    "plt.plot(epochs, val_acc, 'b', label='Validation_acc')\n",
    "plt.title('Training and Validation accuracy')\n",
    "plt.legend()\n",
    "\n",
    "#plot loss:\n",
    "plt.figure()\n",
    "plt.plot(epochs, loss, 'bo', label='Training loss')\n",
    "plt.plot(epochs, val_loss, 'b', label='Validation loss')\n",
    "plt.title('Training and Validation loss')\n",
    "plt.legend()\n",
    "plt.show()"
   ]
  },
  {
   "cell_type": "code",
   "execution_count": 71,
   "id": "41f44e6b",
   "metadata": {},
   "outputs": [],
   "source": [
    "model.save('HW4_question1.hdf5')"
   ]
  },
  {
   "cell_type": "markdown",
   "id": "3e2a8e64",
   "metadata": {},
   "source": [
    "# Evaluate and tune hyper parameters"
   ]
  },
  {
   "cell_type": "markdown",
   "id": "bed6a323",
   "metadata": {},
   "source": [
    "epoch=5; batch_size=10"
   ]
  },
  {
   "cell_type": "code",
   "execution_count": 10,
   "id": "b64b54d0",
   "metadata": {},
   "outputs": [
    {
     "name": "stdout",
     "output_type": "stream",
     "text": [
      "Epoch 1/5\n",
      "113/113 [==============================] - 52s 431ms/step - loss: 0.6807 - accuracy: 0.5581 - val_loss: 0.7693 - val_accuracy: 0.0425\n",
      "Epoch 2/5\n",
      "113/113 [==============================] - 34s 305ms/step - loss: 0.6530 - accuracy: 0.6181 - val_loss: 0.6458 - val_accuracy: 0.7050\n",
      "Epoch 3/5\n",
      "113/113 [==============================] - 36s 321ms/step - loss: 0.6220 - accuracy: 0.6450 - val_loss: 0.7192 - val_accuracy: 0.5750\n",
      "Epoch 4/5\n",
      "113/113 [==============================] - 37s 324ms/step - loss: 0.5882 - accuracy: 0.6817 - val_loss: 0.8397 - val_accuracy: 0.4350\n",
      "Epoch 5/5\n",
      "113/113 [==============================] - 38s 339ms/step - loss: 0.5583 - accuracy: 0.7133 - val_loss: 0.8688 - val_accuracy: 0.4625\n"
     ]
    }
   ],
   "source": [
    "model.compile(loss=\"binary_crossentropy\", \n",
    "              optimizer=optimizers.RMSprop(learning_rate=1e-4), \n",
    "              metrics=[\"accuracy\"])\n",
    "\n",
    "history = model.fit(x_train, \n",
    "                    y_train,\n",
    "                    epochs = 5,\n",
    "                    validation_data = (x_val, y_val),\n",
    "                    verbose =1)"
   ]
  },
  {
   "cell_type": "code",
   "execution_count": 11,
   "id": "9c34a6b8",
   "metadata": {},
   "outputs": [
    {
     "name": "stdout",
     "output_type": "stream",
     "text": [
      "60/60 - 2s - loss: 0.5359 - accuracy: 0.5000 - 2s/epoch - 28ms/step\n"
     ]
    },
    {
     "data": {
      "text/plain": [
       "[0.5359047055244446, 0.5]"
      ]
     },
     "execution_count": 11,
     "metadata": {},
     "output_type": "execute_result"
    }
   ],
   "source": [
    "model.evaluate(x_test, y_test, batch_size=10, verbose=2)"
   ]
  },
  {
   "cell_type": "code",
   "execution_count": 12,
   "id": "3944bee5",
   "metadata": {},
   "outputs": [
    {
     "data": {
      "image/png": "[encoded data removed]",
      "text/plain": [
       "<Figure size 432x288 with 1 Axes>"
      ]
     },
     "metadata": {
      "needs_background": "light"
     },
     "output_type": "display_data"
    },
    {
     "data": {
      "image/png": "[encoded data removed]",
      "text/plain": [
       "<Figure size 432x288 with 1 Axes>"
      ]
     },
     "metadata": {
      "needs_background": "light"
     },
     "output_type": "display_data"
    }
   ],
   "source": [
    "import matplotlib.pyplot as plt\n",
    "acc=history.history['accuracy']\n",
    "val_acc=history.history['val_accuracy']\n",
    "loss=history.history['loss']\n",
    "val_loss=history.history['val_loss']\n",
    "\n",
    "epochs=range(1, len(acc)+1)\n",
    "\n",
    "#plot accuracy:\n",
    "plt.plot(epochs, acc, 'bo', label='Training acc')\n",
    "plt.plot(epochs, val_acc, 'b', label='Validation_acc')\n",
    "plt.title('Training and Validation accuracy')\n",
    "plt.legend()\n",
    "\n",
    "#plot loss:\n",
    "plt.figure()\n",
    "plt.plot(epochs, loss, 'bo', label='Training loss')\n",
    "plt.plot(epochs, val_loss, 'b', label='Validation loss')\n",
    "plt.title('Training and Validation loss')\n",
    "plt.legend()\n",
    "plt.show()"
   ]
  },
  {
   "cell_type": "markdown",
   "id": "f443f9c5",
   "metadata": {},
   "source": [
    "epoch=10, batch size=5"
   ]
  },
  {
   "cell_type": "code",
   "execution_count": 13,
   "id": "311ec203",
   "metadata": {
    "scrolled": true
   },
   "outputs": [
    {
     "name": "stdout",
     "output_type": "stream",
     "text": [
      "Epoch 1/10\n",
      "113/113 [==============================] - 31s 274ms/step - loss: 0.5327 - accuracy: 0.7314 - val_loss: 0.6224 - val_accuracy: 0.6700\n",
      "Epoch 2/10\n",
      "113/113 [==============================] - 36s 321ms/step - loss: 0.5094 - accuracy: 0.7411 - val_loss: 0.5519 - val_accuracy: 0.7200\n",
      "Epoch 3/10\n",
      "113/113 [==============================] - 36s 323ms/step - loss: 0.4879 - accuracy: 0.7556 - val_loss: 0.7282 - val_accuracy: 0.5950\n",
      "Epoch 4/10\n",
      "113/113 [==============================] - 37s 324ms/step - loss: 0.4693 - accuracy: 0.7814 - val_loss: 0.9542 - val_accuracy: 0.4925\n",
      "Epoch 5/10\n",
      "113/113 [==============================] - 37s 325ms/step - loss: 0.4486 - accuracy: 0.7931 - val_loss: 0.7021 - val_accuracy: 0.6275\n",
      "Epoch 6/10\n",
      "113/113 [==============================] - 37s 330ms/step - loss: 0.4330 - accuracy: 0.7994 - val_loss: 0.9154 - val_accuracy: 0.5400\n",
      "Epoch 7/10\n",
      "113/113 [==============================] - 36s 322ms/step - loss: 0.4125 - accuracy: 0.8161 - val_loss: 0.6595 - val_accuracy: 0.6575\n",
      "Epoch 8/10\n",
      "113/113 [==============================] - 38s 339ms/step - loss: 0.3976 - accuracy: 0.8197 - val_loss: 0.5555 - val_accuracy: 0.7350\n",
      "Epoch 9/10\n",
      "113/113 [==============================] - 38s 340ms/step - loss: 0.3772 - accuracy: 0.8314 - val_loss: 0.2874 - val_accuracy: 0.8850\n",
      "Epoch 10/10\n",
      "113/113 [==============================] - 39s 346ms/step - loss: 0.3652 - accuracy: 0.8397 - val_loss: 1.0512 - val_accuracy: 0.4875\n"
     ]
    }
   ],
   "source": [
    "model.compile(loss=\"binary_crossentropy\", \n",
    "              optimizer=optimizers.RMSprop(learning_rate=1e-4), \n",
    "              metrics=[\"accuracy\"])\n",
    "\n",
    "history = model.fit(x_train, \n",
    "                    y_train,\n",
    "                    epochs = 10,\n",
    "                    validation_data = (x_val, y_val),\n",
    "                    verbose =1)"
   ]
  },
  {
   "cell_type": "code",
   "execution_count": 14,
   "id": "96626a29",
   "metadata": {},
   "outputs": [
    {
     "name": "stdout",
     "output_type": "stream",
     "text": [
      "60/60 - 2s - loss: 0.5374 - accuracy: 0.5000 - 2s/epoch - 27ms/step\n"
     ]
    },
    {
     "data": {
      "text/plain": [
       "[0.5374429821968079, 0.5]"
      ]
     },
     "execution_count": 14,
     "metadata": {},
     "output_type": "execute_result"
    }
   ],
   "source": [
    "model.evaluate(x_test, y_test, batch_size=10, verbose=2)"
   ]
  },
  {
   "cell_type": "code",
   "execution_count": 15,
   "id": "529e13fa",
   "metadata": {},
   "outputs": [
    {
     "data": {
      "image/png": "[encoded data removed]",
      "text/plain": [
       "<Figure size 432x288 with 1 Axes>"
      ]
     },
     "metadata": {
      "needs_background": "light"
     },
     "output_type": "display_data"
    },
    {
     "data": {
      "image/png": "[encoded data removed]",
      "text/plain": [
       "<Figure size 432x288 with 1 Axes>"
      ]
     },
     "metadata": {
      "needs_background": "light"
     },
     "output_type": "display_data"
    }
   ],
   "source": [
    "import matplotlib.pyplot as plt\n",
    "acc=history.history['accuracy']\n",
    "val_acc=history.history['val_accuracy']\n",
    "loss=history.history['loss']\n",
    "val_loss=history.history['val_loss']\n",
    "\n",
    "epochs=range(1, len(acc)+1)\n",
    "\n",
    "#plot accuracy:\n",
    "plt.plot(epochs, acc, 'bo', label='Training acc')\n",
    "plt.plot(epochs, val_acc, 'b', label='Validation_acc')\n",
    "plt.title('Training and Validation accuracy')\n",
    "plt.legend()\n",
    "\n",
    "#plot loss:\n",
    "plt.figure()\n",
    "plt.plot(epochs, loss, 'bo', label='Training loss')\n",
    "plt.plot(epochs, val_loss, 'b', label='Validation loss')\n",
    "plt.title('Training and Validation loss')\n",
    "plt.legend()\n",
    "plt.show()"
   ]
  },
  {
   "cell_type": "code",
   "execution_count": null,
   "id": "88756d14",
   "metadata": {},
   "outputs": [],
   "source": []
  },
  {
   "cell_type": "code",
   "execution_count": null,
   "id": "8ff57bdf",
   "metadata": {},
   "outputs": [],
   "source": []
  },
  {
   "cell_type": "code",
   "execution_count": null,
   "id": "68d5ff71",
   "metadata": {},
   "outputs": [],
   "source": []
  },
  {
   "cell_type": "markdown",
   "id": "5aaedef6",
   "metadata": {},
   "source": [
    "# Visualize activation of some of the convolution layers:"
   ]
  },
  {
   "cell_type": "code",
   "execution_count": 49,
   "id": "ff69cd3c",
   "metadata": {},
   "outputs": [
    {
     "name": "stdout",
     "output_type": "stream",
     "text": [
      "Downloading data from https://storage.googleapis.com/tensorflow/keras-applications/vgg16/vgg16_weights_tf_dim_ordering_tf_kernels.h5\n",
      "553467096/553467096 [==============================] - 20s 0us/step\n",
      "Model: \"vgg16\"\n",
      "_________________________________________________________________\n",
      " Layer (type)                Output Shape              Param #   \n",
      "=================================================================\n",
      " input_3 (InputLayer)        [(None, 224, 224, 3)]     0         \n",
      "                                                                 \n",
      " block1_conv1 (Conv2D)       (None, 224, 224, 64)      1792      \n",
      "                                                                 \n",
      " block1_conv2 (Conv2D)       (None, 224, 224, 64)      36928     \n",
      "                                                                 \n",
      " block1_pool (MaxPooling2D)  (None, 112, 112, 64)      0         \n",
      "                                                                 \n",
      " block2_conv1 (Conv2D)       (None, 112, 112, 128)     73856     \n",
      "                                                                 \n",
      " block2_conv2 (Conv2D)       (None, 112, 112, 128)     147584    \n",
      "                                                                 \n",
      " block2_pool (MaxPooling2D)  (None, 56, 56, 128)       0         \n",
      "                                                                 \n",
      " block3_conv1 (Conv2D)       (None, 56, 56, 256)       295168    \n",
      "                                                                 \n",
      " block3_conv2 (Conv2D)       (None, 56, 56, 256)       590080    \n",
      "                                                                 \n",
      " block3_conv3 (Conv2D)       (None, 56, 56, 256)       590080    \n",
      "                                                                 \n",
      " block3_pool (MaxPooling2D)  (None, 28, 28, 256)       0         \n",
      "                                                                 \n",
      " block4_conv1 (Conv2D)       (None, 28, 28, 512)       1180160   \n",
      "                                                                 \n",
      " block4_conv2 (Conv2D)       (None, 28, 28, 512)       2359808   \n",
      "                                                                 \n",
      " block4_conv3 (Conv2D)       (None, 28, 28, 512)       2359808   \n",
      "                                                                 \n",
      " block4_pool (MaxPooling2D)  (None, 14, 14, 512)       0         \n",
      "                                                                 \n",
      " block5_conv1 (Conv2D)       (None, 14, 14, 512)       2359808   \n",
      "                                                                 \n",
      " block5_conv2 (Conv2D)       (None, 14, 14, 512)       2359808   \n",
      "                                                                 \n",
      " block5_conv3 (Conv2D)       (None, 14, 14, 512)       2359808   \n",
      "                                                                 \n",
      " block5_pool (MaxPooling2D)  (None, 7, 7, 512)         0         \n",
      "                                                                 \n",
      " flatten (Flatten)           (None, 25088)             0         \n",
      "                                                                 \n",
      " fc1 (Dense)                 (None, 4096)              102764544 \n",
      "                                                                 \n",
      " fc2 (Dense)                 (None, 4096)              16781312  \n",
      "                                                                 \n",
      " predictions (Dense)         (None, 1000)              4097000   \n",
      "                                                                 \n",
      "=================================================================\n",
      "Total params: 138,357,544\n",
      "Trainable params: 138,357,544\n",
      "Non-trainable params: 0\n",
      "_________________________________________________________________\n",
      "None\n"
     ]
    }
   ],
   "source": [
    "\n",
    "from keras.applications.vgg16 import VGG16\n",
    "model = VGG16()\n",
    "print(model.summary())"
   ]
  },
  {
   "cell_type": "code",
   "execution_count": 50,
   "id": "97795dce",
   "metadata": {},
   "outputs": [],
   "source": [
    "model.compile(loss=\"binary_crossentropy\", \n",
    "              optimizer=optimizers.RMSprop(learning_rate=1e-4), \n",
    "              metrics=[\"accuracy\"])"
   ]
  },
  {
   "cell_type": "code",
   "execution_count": 51,
   "id": "2b24dab4",
   "metadata": {},
   "outputs": [
    {
     "ename": "ValueError",
     "evalue": "in user code:\n\n    File \"C:\\Users\\edbar\\anaconda3\\lib\\site-packages\\keras\\engine\\training.py\", line 1160, in train_function  *\n        return step_function(self, iterator)\n    File \"C:\\Users\\edbar\\anaconda3\\lib\\site-packages\\keras\\engine\\training.py\", line 1146, in step_function  **\n        outputs = model.distribute_strategy.run(run_step, args=(data,))\n    File \"C:\\Users\\edbar\\anaconda3\\lib\\site-packages\\keras\\engine\\training.py\", line 1135, in run_step  **\n        outputs = model.train_step(data)\n    File \"C:\\Users\\edbar\\anaconda3\\lib\\site-packages\\keras\\engine\\training.py\", line 993, in train_step\n        y_pred = self(x, training=True)\n    File \"C:\\Users\\edbar\\anaconda3\\lib\\site-packages\\keras\\utils\\traceback_utils.py\", line 70, in error_handler\n        raise e.with_traceback(filtered_tb) from None\n    File \"C:\\Users\\edbar\\anaconda3\\lib\\site-packages\\keras\\engine\\input_spec.py\", line 295, in assert_input_compatibility\n        raise ValueError(\n\n    ValueError: Input 0 of layer \"vgg16\" is incompatible with the layer: expected shape=(None, 224, 224, 3), found shape=(None, 128, 128, 1)\n",
     "output_type": "error",
     "traceback": [
      "\u001b[1;31m---------------------------------------------------------------------------\u001b[0m",
      "\u001b[1;31mValueError\u001b[0m                                Traceback (most recent call last)",
      "Input \u001b[1;32mIn [51]\u001b[0m, in \u001b[0;36m<cell line: 1>\u001b[1;34m()\u001b[0m\n\u001b[1;32m----> 1\u001b[0m history \u001b[38;5;241m=\u001b[39m \u001b[43mmodel\u001b[49m\u001b[38;5;241;43m.\u001b[39;49m\u001b[43mfit\u001b[49m\u001b[43m(\u001b[49m\u001b[43mx_train\u001b[49m\u001b[43m,\u001b[49m\u001b[43m \u001b[49m\n\u001b[0;32m      2\u001b[0m \u001b[43m                    \u001b[49m\u001b[43my_train\u001b[49m\u001b[43m,\u001b[49m\n\u001b[0;32m      3\u001b[0m \u001b[43m                    \u001b[49m\u001b[43mepochs\u001b[49m\u001b[43m \u001b[49m\u001b[38;5;241;43m=\u001b[39;49m\u001b[43m \u001b[49m\u001b[38;5;241;43m1\u001b[39;49m\u001b[43m,\u001b[49m\n\u001b[0;32m      4\u001b[0m \u001b[43m                    \u001b[49m\u001b[43mvalidation_data\u001b[49m\u001b[43m \u001b[49m\u001b[38;5;241;43m=\u001b[39;49m\u001b[43m \u001b[49m\u001b[43m(\u001b[49m\u001b[43mx_val\u001b[49m\u001b[43m,\u001b[49m\u001b[43m \u001b[49m\u001b[43my_val\u001b[49m\u001b[43m)\u001b[49m\u001b[43m,\u001b[49m\n\u001b[0;32m      5\u001b[0m \u001b[43m                    \u001b[49m\u001b[43mverbose\u001b[49m\u001b[43m \u001b[49m\u001b[38;5;241;43m=\u001b[39;49m\u001b[38;5;241;43m1\u001b[39;49m\u001b[43m)\u001b[49m\n",
      "File \u001b[1;32m~\\anaconda3\\lib\\site-packages\\keras\\utils\\traceback_utils.py:70\u001b[0m, in \u001b[0;36mfilter_traceback.<locals>.error_handler\u001b[1;34m(*args, **kwargs)\u001b[0m\n\u001b[0;32m     67\u001b[0m     filtered_tb \u001b[38;5;241m=\u001b[39m _process_traceback_frames(e\u001b[38;5;241m.\u001b[39m__traceback__)\n\u001b[0;32m     68\u001b[0m     \u001b[38;5;66;03m# To get the full stack trace, call:\u001b[39;00m\n\u001b[0;32m     69\u001b[0m     \u001b[38;5;66;03m# `tf.debugging.disable_traceback_filtering()`\u001b[39;00m\n\u001b[1;32m---> 70\u001b[0m     \u001b[38;5;28;01mraise\u001b[39;00m e\u001b[38;5;241m.\u001b[39mwith_traceback(filtered_tb) \u001b[38;5;28;01mfrom\u001b[39;00m \u001b[38;5;28mNone\u001b[39m\n\u001b[0;32m     71\u001b[0m \u001b[38;5;28;01mfinally\u001b[39;00m:\n\u001b[0;32m     72\u001b[0m     \u001b[38;5;28;01mdel\u001b[39;00m filtered_tb\n",
      "File \u001b[1;32m~\\AppData\\Local\\Temp\\__autograph_generated_filea_h5c8fq.py:15\u001b[0m, in \u001b[0;36mouter_factory.<locals>.inner_factory.<locals>.tf__train_function\u001b[1;34m(iterator)\u001b[0m\n\u001b[0;32m     13\u001b[0m \u001b[38;5;28;01mtry\u001b[39;00m:\n\u001b[0;32m     14\u001b[0m     do_return \u001b[38;5;241m=\u001b[39m \u001b[38;5;28;01mTrue\u001b[39;00m\n\u001b[1;32m---> 15\u001b[0m     retval_ \u001b[38;5;241m=\u001b[39m ag__\u001b[38;5;241m.\u001b[39mconverted_call(ag__\u001b[38;5;241m.\u001b[39mld(step_function), (ag__\u001b[38;5;241m.\u001b[39mld(\u001b[38;5;28mself\u001b[39m), ag__\u001b[38;5;241m.\u001b[39mld(iterator)), \u001b[38;5;28;01mNone\u001b[39;00m, fscope)\n\u001b[0;32m     16\u001b[0m \u001b[38;5;28;01mexcept\u001b[39;00m:\n\u001b[0;32m     17\u001b[0m     do_return \u001b[38;5;241m=\u001b[39m \u001b[38;5;28;01mFalse\u001b[39;00m\n",
      "\u001b[1;31mValueError\u001b[0m: in user code:\n\n    File \"C:\\Users\\edbar\\anaconda3\\lib\\site-packages\\keras\\engine\\training.py\", line 1160, in train_function  *\n        return step_function(self, iterator)\n    File \"C:\\Users\\edbar\\anaconda3\\lib\\site-packages\\keras\\engine\\training.py\", line 1146, in step_function  **\n        outputs = model.distribute_strategy.run(run_step, args=(data,))\n    File \"C:\\Users\\edbar\\anaconda3\\lib\\site-packages\\keras\\engine\\training.py\", line 1135, in run_step  **\n        outputs = model.train_step(data)\n    File \"C:\\Users\\edbar\\anaconda3\\lib\\site-packages\\keras\\engine\\training.py\", line 993, in train_step\n        y_pred = self(x, training=True)\n    File \"C:\\Users\\edbar\\anaconda3\\lib\\site-packages\\keras\\utils\\traceback_utils.py\", line 70, in error_handler\n        raise e.with_traceback(filtered_tb) from None\n    File \"C:\\Users\\edbar\\anaconda3\\lib\\site-packages\\keras\\engine\\input_spec.py\", line 295, in assert_input_compatibility\n        raise ValueError(\n\n    ValueError: Input 0 of layer \"vgg16\" is incompatible with the layer: expected shape=(None, 224, 224, 3), found shape=(None, 128, 128, 1)\n"
     ]
    }
   ],
   "source": [
    "history = model.fit(x_train, \n",
    "                    y_train,\n",
    "                    epochs = 1,\n",
    "                    validation_data = (x_val, y_val),\n",
    "                    verbose =1)"
   ]
  },
  {
   "cell_type": "code",
   "execution_count": null,
   "id": "d98eb985",
   "metadata": {},
   "outputs": [],
   "source": []
  },
  {
   "cell_type": "code",
   "execution_count": 56,
   "id": "a6525de6",
   "metadata": {},
   "outputs": [
    {
     "ename": "ValueError",
     "evalue": "cannot reshape array of size 58982400 into shape (3600,128,128,3)",
     "output_type": "error",
     "traceback": [
      "\u001b[1;31m---------------------------------------------------------------------------\u001b[0m",
      "\u001b[1;31mValueError\u001b[0m                                Traceback (most recent call last)",
      "Input \u001b[1;32mIn [56]\u001b[0m, in \u001b[0;36m<cell line: 1>\u001b[1;34m()\u001b[0m\n\u001b[1;32m----> 1\u001b[0m x_train \u001b[38;5;241m=\u001b[39m \u001b[43mx_train\u001b[49m\u001b[38;5;241;43m.\u001b[39;49m\u001b[43mreshape\u001b[49m\u001b[43m(\u001b[49m\u001b[43mx_train\u001b[49m\u001b[38;5;241;43m.\u001b[39;49m\u001b[43mshape\u001b[49m\u001b[43m[\u001b[49m\u001b[38;5;241;43m0\u001b[39;49m\u001b[43m]\u001b[49m\u001b[43m,\u001b[49m\u001b[43m \u001b[49m\u001b[38;5;241;43m128\u001b[39;49m\u001b[43m,\u001b[49m\u001b[38;5;241;43m128\u001b[39;49m\u001b[43m,\u001b[49m\u001b[38;5;241;43m3\u001b[39;49m\u001b[43m)\u001b[49m\u001b[38;5;241m.\u001b[39mastype(\u001b[38;5;124m'\u001b[39m\u001b[38;5;124mfloat32\u001b[39m\u001b[38;5;124m'\u001b[39m)\n\u001b[0;32m      2\u001b[0m x_test \u001b[38;5;241m=\u001b[39m x_test\u001b[38;5;241m.\u001b[39mreshape(x_test\u001b[38;5;241m.\u001b[39mshape[\u001b[38;5;241m0\u001b[39m], \u001b[38;5;241m128\u001b[39m, \u001b[38;5;241m128\u001b[39m, \u001b[38;5;241m3\u001b[39m)\u001b[38;5;241m.\u001b[39mastype(\u001b[38;5;124m'\u001b[39m\u001b[38;5;124mfloat32\u001b[39m\u001b[38;5;124m'\u001b[39m)\n\u001b[0;32m      3\u001b[0m x_val\u001b[38;5;241m=\u001b[39mx_val\u001b[38;5;241m.\u001b[39mreshape(x_val\u001b[38;5;241m.\u001b[39mshape[\u001b[38;5;241m0\u001b[39m], \u001b[38;5;241m128\u001b[39m,\u001b[38;5;241m128\u001b[39m,\u001b[38;5;241m3\u001b[39m)\u001b[38;5;241m.\u001b[39mastype(\u001b[38;5;124m'\u001b[39m\u001b[38;5;124mfloat32\u001b[39m\u001b[38;5;124m'\u001b[39m)\n",
      "\u001b[1;31mValueError\u001b[0m: cannot reshape array of size 58982400 into shape (3600,128,128,3)"
     ]
    }
   ],
   "source": [
    "x_train = x_train.reshape(x_train.shape[0], 128,128,3).astype('float32')\n",
    "x_test = x_test.reshape(x_test.shape[0], 128, 128, 3).astype('float32')\n",
    "x_val=x_val.reshape(x_val.shape[0], 128,128,3).astype('float32')\n",
    "x_train = x_train/255.0\n",
    "x_test = x_test/255.0\n",
    "x_val=x_val/255.0"
   ]
  },
  {
   "cell_type": "code",
   "execution_count": null,
   "id": "8a63b97d",
   "metadata": {},
   "outputs": [],
   "source": []
  }
 ],
 "metadata": {
  "kernelspec": {
   "display_name": "gpu2",
   "language": "python",
   "name": "gpu2"
  },
  "language_info": {
   "codemirror_mode": {
    "name": "ipython",
    "version": 3
   },
   "file_extension": ".py",
   "mimetype": "text/x-python",
   "name": "python",
   "nbconvert_exporter": "python",
   "pygments_lexer": "ipython3",
   "version": "3.11.5"
  }
 },
 "nbformat": 4,
 "nbformat_minor": 5
}
