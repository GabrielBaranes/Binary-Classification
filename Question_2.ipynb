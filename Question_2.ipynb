{
 "cells": [
  {
   "cell_type": "code",
   "execution_count": 2,
   "id": "3e67ac98",
   "metadata": {},
   "outputs": [],
   "source": [
    "import numpy as np\n",
    "from tensorflow.keras import *\n",
    "from keras.preprocessing.image import ImageDataGenerator\n",
    "import matplotlib.pyplot as plt\n",
    "import seaborn as sns"
   ]
  },
  {
   "cell_type": "code",
   "execution_count": 59,
   "id": "9bff2b17",
   "metadata": {},
   "outputs": [],
   "source": [
    "(x, y), (x_test, y_test) = datasets.cifar10.load_data()\n",
    "x_train = x[:48000]\n",
    "x_val = x[-2000:]\n",
    "\n",
    "y_train = y[:48000]\n",
    "y_val = y[-2000:]\n",
    "\n"
   ]
  },
  {
   "cell_type": "markdown",
   "id": "065191d4",
   "metadata": {},
   "source": [
    "Dimensions"
   ]
  },
  {
   "cell_type": "code",
   "execution_count": 60,
   "id": "92de2e60",
   "metadata": {},
   "outputs": [
    {
     "name": "stdout",
     "output_type": "stream",
     "text": [
      "x_train (48000, 32, 32, 3)\n",
      "y_train (48000, 1)\n",
      "x_val (2000, 32, 32, 3)\n",
      "y_val (2000, 1)\n",
      "x_test (10000, 32, 32, 3)\n",
      "y_test (10000, 1)\n"
     ]
    }
   ],
   "source": [
    "print(\"x_train\",x_train.shape)\n",
    "print(\"y_train\",y_train.shape)\n",
    "print(\"x_val\", x_val.shape)\n",
    "print(\"y_val\", y_val.shape)\n",
    "print(\"x_test\",x_test.shape)\n",
    "print(\"y_test\",y_test.shape)"
   ]
  },
  {
   "cell_type": "code",
   "execution_count": 61,
   "id": "683e9816",
   "metadata": {
    "scrolled": true
   },
   "outputs": [
    {
     "name": "stdout",
     "output_type": "stream",
     "text": [
      "Model: \"model_4\"\n",
      "_________________________________________________________________\n",
      " Layer (type)                Output Shape              Param #   \n",
      "=================================================================\n",
      " input_13 (InputLayer)       [(None, 32, 32, 3)]       0         \n",
      "                                                                 \n",
      " conv2d_49 (Conv2D)          (None, 30, 30, 32)        896       \n",
      "                                                                 \n",
      " batch_normalization_22 (Bat  (None, 30, 30, 32)       128       \n",
      " chNormalization)                                                \n",
      "                                                                 \n",
      " conv2d_50 (Conv2D)          (None, 28, 28, 64)        18496     \n",
      "                                                                 \n",
      " batch_normalization_23 (Bat  (None, 28, 28, 64)       256       \n",
      " chNormalization)                                                \n",
      "                                                                 \n",
      " max_pooling2d_33 (MaxPoolin  (None, 14, 14, 64)       0         \n",
      " g2D)                                                            \n",
      "                                                                 \n",
      " conv2d_51 (Conv2D)          (None, 12, 12, 128)       73856     \n",
      "                                                                 \n",
      " batch_normalization_24 (Bat  (None, 12, 12, 128)      512       \n",
      " chNormalization)                                                \n",
      "                                                                 \n",
      " max_pooling2d_34 (MaxPoolin  (None, 6, 6, 128)        0         \n",
      " g2D)                                                            \n",
      "                                                                 \n",
      " flatten_6 (Flatten)         (None, 4608)              0         \n",
      "                                                                 \n",
      " dense_10 (Dense)            (None, 128)               589952    \n",
      "                                                                 \n",
      " dense_11 (Dense)            (None, 10)                1290      \n",
      "                                                                 \n",
      " tf.nn.softmax_4 (TFOpLambda  (None, 10)               0         \n",
      " )                                                               \n",
      "                                                                 \n",
      "=================================================================\n",
      "Total params: 685,386\n",
      "Trainable params: 684,938\n",
      "Non-trainable params: 448\n",
      "_________________________________________________________________\n"
     ]
    }
   ],
   "source": [
    "input = Input(shape=(32, 32, 3))\n",
    "\n",
    "x = layers.Conv2D(32, (3,3), activation='relu')(input)\n",
    "x = layers.BatchNormalization()(x)\n",
    "x = layers.Conv2D(64, (3,3), activation='relu')(x)\n",
    "x = layers.BatchNormalization()(x)\n",
    "x = layers.MaxPooling2D(2)(x)\n",
    "\n",
    "x = layers.Conv2D(128, (3,3), activation='relu')(x)\n",
    "x = layers.BatchNormalization()(x)\n",
    "x = layers.MaxPooling2D(2)(x)\n",
    "\n",
    "x = layers.Flatten()(x)\n",
    "\n",
    "x = layers.Dense(128, activation='relu')(x)\n",
    "x= layers.Dense(10)(x)\n",
    "output= activations.softmax(x)\n",
    "\n",
    "model = Model(inputs=input, outputs=output)\n",
    "model.summary()"
   ]
  },
  {
   "cell_type": "code",
   "execution_count": 65,
   "id": "77d32c8f",
   "metadata": {},
   "outputs": [],
   "source": [
    "donnee_ganerator_train = ImageDataGenerator(featurewise_center=True, featurewise_std_normalization=True, rotation_range=15, width_shift_range=0.15, height_shift_range=0.15, horizontal_flip=True)\n",
    "donnee_ganerator_train.fit(x_train)"
   ]
  },
  {
   "cell_type": "code",
   "execution_count": 66,
   "id": "a11610ac",
   "metadata": {},
   "outputs": [],
   "source": [
    "donnee_ganerator_test = ImageDataGenerator(featurewise_center=True, featurewise_std_normalization=True)\n",
    "donnee_ganerator_test.fit(x_val)\n",
    "donnee_ganerator_test.fit(x_test)"
   ]
  },
  {
   "cell_type": "markdown",
   "id": "661dc57c",
   "metadata": {},
   "source": [
    "convolutional neural network"
   ]
  },
  {
   "cell_type": "code",
   "execution_count": 67,
   "id": "9e3dbe0d",
   "metadata": {
    "scrolled": true
   },
   "outputs": [
    {
     "name": "stdout",
     "output_type": "stream",
     "text": [
      "Epoch 1/20\n",
      "93/93 [==============================] - 9s 89ms/step - loss: 1.9684 - accuracy: 0.3271 - val_loss: 3.3139 - val_accuracy: 0.1740\n",
      "Epoch 2/20\n",
      "93/93 [==============================] - 15s 160ms/step - loss: 1.6399 - accuracy: 0.3986 - val_loss: 3.9769 - val_accuracy: 0.2060\n",
      "Epoch 3/20\n",
      "93/93 [==============================] - 17s 180ms/step - loss: 1.5396 - accuracy: 0.4438 - val_loss: 2.0805 - val_accuracy: 0.3010\n",
      "Epoch 4/20\n",
      "93/93 [==============================] - 16s 172ms/step - loss: 1.4550 - accuracy: 0.4633 - val_loss: 1.3683 - val_accuracy: 0.5055\n",
      "Epoch 5/20\n",
      "93/93 [==============================] - 16s 171ms/step - loss: 1.3842 - accuracy: 0.4982 - val_loss: 1.1706 - val_accuracy: 0.5915\n",
      "Epoch 6/20\n",
      "93/93 [==============================] - 17s 177ms/step - loss: 1.3211 - accuracy: 0.5196 - val_loss: 1.1771 - val_accuracy: 0.5855\n",
      "Epoch 7/20\n",
      "93/93 [==============================] - 17s 177ms/step - loss: 1.2876 - accuracy: 0.5367 - val_loss: 1.2249 - val_accuracy: 0.5820\n",
      "Epoch 8/20\n",
      "93/93 [==============================] - 16s 171ms/step - loss: 1.2362 - accuracy: 0.5544 - val_loss: 1.2191 - val_accuracy: 0.5810\n",
      "Epoch 9/20\n",
      "93/93 [==============================] - 17s 178ms/step - loss: 1.2102 - accuracy: 0.5627 - val_loss: 1.1858 - val_accuracy: 0.6020\n",
      "Epoch 10/20\n",
      "93/93 [==============================] - 16s 171ms/step - loss: 1.1793 - accuracy: 0.5776 - val_loss: 1.2094 - val_accuracy: 0.5925\n",
      "Epoch 11/20\n",
      "93/93 [==============================] - 16s 172ms/step - loss: 1.1636 - accuracy: 0.5806 - val_loss: 1.1939 - val_accuracy: 0.6075\n",
      "Epoch 12/20\n",
      "93/93 [==============================] - 16s 171ms/step - loss: 1.1216 - accuracy: 0.5868 - val_loss: 1.1086 - val_accuracy: 0.6210\n",
      "Epoch 13/20\n",
      "93/93 [==============================] - 16s 171ms/step - loss: 1.0959 - accuracy: 0.6079 - val_loss: 1.1242 - val_accuracy: 0.6320\n",
      "Epoch 14/20\n",
      "93/93 [==============================] - 16s 167ms/step - loss: 1.0906 - accuracy: 0.6135 - val_loss: 1.2225 - val_accuracy: 0.6100\n",
      "Epoch 15/20\n",
      "93/93 [==============================] - 16s 173ms/step - loss: 1.0755 - accuracy: 0.6180 - val_loss: 1.0064 - val_accuracy: 0.6455\n",
      "Epoch 16/20\n",
      "93/93 [==============================] - 17s 179ms/step - loss: 1.0447 - accuracy: 0.6282 - val_loss: 1.0202 - val_accuracy: 0.6685\n",
      "Epoch 17/20\n",
      "93/93 [==============================] - 18s 188ms/step - loss: 1.0180 - accuracy: 0.6371 - val_loss: 1.0518 - val_accuracy: 0.6440\n",
      "Epoch 18/20\n",
      "93/93 [==============================] - 18s 189ms/step - loss: 1.0278 - accuracy: 0.6343 - val_loss: 0.9404 - val_accuracy: 0.6720\n",
      "Epoch 19/20\n",
      "93/93 [==============================] - 17s 182ms/step - loss: 1.0107 - accuracy: 0.6453 - val_loss: 0.9064 - val_accuracy: 0.6935\n",
      "Epoch 20/20\n",
      "93/93 [==============================] - 17s 179ms/step - loss: 1.0087 - accuracy: 0.6416 - val_loss: 0.9119 - val_accuracy: 0.6845\n"
     ]
    }
   ],
   "source": [
    "model.compile(loss=losses.SparseCategoricalCrossentropy(),optimizer=optimizers.Adam(),metrics=['accuracy'])\n",
    "history = model.fit(donnee_ganerator_train.flow(x_train, y_train.flatten(), batch_size=64), steps_per_epoch=len(x_train) / 512, epochs=20, validation_data=donnee_ganerator_test.flow(x_val, y_val.flatten(), batch_size=64))"
   ]
  },
  {
   "cell_type": "code",
   "execution_count": 68,
   "id": "74f02cbd",
   "metadata": {},
   "outputs": [
    {
     "name": "stdout",
     "output_type": "stream",
     "text": [
      "10000/10000 - 29s - loss: 0.9347 - accuracy: 0.6797 - 29s/epoch - 3ms/step\n"
     ]
    },
    {
     "data": {
      "text/plain": [
       "[0.9347360134124756, 0.6797000169754028]"
      ]
     },
     "execution_count": 68,
     "metadata": {},
     "output_type": "execute_result"
    }
   ],
   "source": [
    "model.evaluate(donnee_ganerator_test.flow(x_test, y_test.flatten(), batch_size=1), verbose=2)"
   ]
  },
  {
   "cell_type": "code",
   "execution_count": 70,
   "id": "37d63800",
   "metadata": {},
   "outputs": [],
   "source": [
    "model.save('HW4_cifar10_question_c_model.hdf5')"
   ]
  },
  {
   "cell_type": "markdown",
   "id": "12cf9e80",
   "metadata": {},
   "source": [
    "Plots"
   ]
  },
  {
   "cell_type": "code",
   "execution_count": 71,
   "id": "72fa496a",
   "metadata": {},
   "outputs": [
    {
     "data": {
      "image/png": "[encoded data removed]",
      "text/plain": [
       "<Figure size 432x288 with 1 Axes>"
      ]
     },
     "metadata": {
      "needs_background": "light"
     },
     "output_type": "display_data"
    },
    {
     "data": {
      "image/png": "[encoded data removed]",
      "text/plain": [
       "<Figure size 432x288 with 1 Axes>"
      ]
     },
     "metadata": {
      "needs_background": "light"
     },
     "output_type": "display_data"
    }
   ],
   "source": [
    "import matplotlib.pyplot as plt\n",
    "acc=history.history['accuracy']\n",
    "val_acc=history.history['val_accuracy']\n",
    "loss=history.history['loss']\n",
    "val_loss=history.history['val_loss']\n",
    "\n",
    "epochs=range(1, len(acc)+1)\n",
    "\n",
    "#plot accuracy:\n",
    "plt.plot(epochs, acc, 'bo', label='Training acc')\n",
    "plt.plot(epochs, val_acc, 'b', label='Validation_acc')\n",
    "plt.title('Training and Validation accuracy')\n",
    "plt.legend()\n",
    "\n",
    "#plot loss:\n",
    "plt.figure()\n",
    "plt.plot(epochs, loss, 'bo', label='Training loss')\n",
    "plt.plot(epochs, val_loss, 'b', label='Validation loss')\n",
    "plt.title('Training and Validation loss')\n",
    "plt.legend()\n",
    "plt.show()"
   ]
  },
  {
   "cell_type": "code",
   "execution_count": null,
   "id": "505d771c",
   "metadata": {},
   "outputs": [],
   "source": []
  },
  {
   "cell_type": "code",
   "execution_count": 72,
   "id": "ce58e9dd",
   "metadata": {},
   "outputs": [],
   "source": [
    "from keras.layers.core import Flatten\n",
    "from keras.layers.convolutional import Conv2D\n",
    "from tensorflow.keras.layers import BatchNormalization\n",
    "from keras.layers.convolutional import MaxPooling2D\n",
    "from keras.layers.core import Dropout\n",
    "from keras.layers.core import Activation\n",
    "from keras.layers.core import Dense\n",
    "from keras.layers import Input\n",
    "from keras.layers import concatenate\n",
    "from keras.layers import add\n",
    "from keras.models import Model\n",
    "from tensorflow import  keras"
   ]
  },
  {
   "cell_type": "markdown",
   "id": "87a48d96",
   "metadata": {},
   "source": [
    "#inception_block"
   ]
  },
  {
   "cell_type": "code",
   "execution_count": 75,
   "id": "45b37aa6",
   "metadata": {},
   "outputs": [],
   "source": [
    "inputShape = Input(shape = (32,32,3))\n",
    "\n",
    "layer1 = Conv2D(32,(3,3),padding='same',activation='relu')(inputShape)\n",
    "layer1 = MaxPooling2D(pool_size=(2,2))(layer1)\n",
    "\n",
    "layer2 = Conv2D(64,(3,3),padding='same',activation='relu')(layer1)\n",
    "layer2 = MaxPooling2D(pool_size=(2,2))(layer2)\n",
    "\n",
    "layer3 = Conv2D(64,(3,3),padding='same',activation='relu')(layer1)\n",
    "layer3 = MaxPooling2D(pool_size=(2,2))(layer3)\n",
    "\n",
    "layer4 = Conv2D(64,(3,3),padding='same',activation='relu')(layer3)\n",
    "layer4 = BatchNormalization()(layer4)\n",
    "\n",
    "layer4 = MaxPooling2D(pool_size=(2,2))(layer4)\n",
    "\n",
    "layer4 = Dropout(0.5)(layer4)\n",
    "\n",
    "block1_1 = Conv2D(64, (1,1), activation='relu', padding='same')(layer4)\n",
    "block1_1 = Conv2D(64, (3,3), activation='relu', padding='same')(block1_1)\n",
    "block1_1 = Dropout(0.5)(block1_1)\n",
    "\n",
    "output = Flatten()(block1_1)\n",
    "out = Dense(10,activation='softmax')(output)"
   ]
  },
  {
   "cell_type": "code",
   "execution_count": 76,
   "id": "f221dfcd",
   "metadata": {},
   "outputs": [
    {
     "name": "stdout",
     "output_type": "stream",
     "text": [
      "Epoch 1/20\n",
      "93/93 [==============================] - 6s 57ms/step - loss: 2.2116 - accuracy: 0.1850 - val_loss: 2.1951 - val_accuracy: 0.1200\n",
      "Epoch 2/20\n",
      "93/93 [==============================] - 5s 55ms/step - loss: 1.9102 - accuracy: 0.2869 - val_loss: 2.1581 - val_accuracy: 0.2090\n",
      "Epoch 3/20\n",
      "93/93 [==============================] - 5s 54ms/step - loss: 1.8109 - accuracy: 0.3253 - val_loss: 1.6389 - val_accuracy: 0.4250\n",
      "Epoch 4/20\n",
      "93/93 [==============================] - 10s 105ms/step - loss: 1.7194 - accuracy: 0.3536 - val_loss: 1.6231 - val_accuracy: 0.3995\n",
      "Epoch 5/20\n",
      "93/93 [==============================] - 9s 99ms/step - loss: 1.6668 - accuracy: 0.3772 - val_loss: 1.4851 - val_accuracy: 0.4545\n",
      "Epoch 6/20\n",
      "93/93 [==============================] - 8s 88ms/step - loss: 1.6410 - accuracy: 0.3961 - val_loss: 1.4429 - val_accuracy: 0.4685\n",
      "Epoch 7/20\n",
      "93/93 [==============================] - 9s 94ms/step - loss: 1.6087 - accuracy: 0.4097 - val_loss: 1.4218 - val_accuracy: 0.4800\n",
      "Epoch 8/20\n",
      "93/93 [==============================] - 9s 94ms/step - loss: 1.5897 - accuracy: 0.4077 - val_loss: 1.4221 - val_accuracy: 0.4855\n",
      "Epoch 9/20\n",
      "93/93 [==============================] - 9s 100ms/step - loss: 1.5547 - accuracy: 0.4181 - val_loss: 1.4607 - val_accuracy: 0.4630\n",
      "Epoch 10/20\n",
      "93/93 [==============================] - 9s 101ms/step - loss: 1.4931 - accuracy: 0.4515 - val_loss: 1.3348 - val_accuracy: 0.5125\n",
      "Epoch 11/20\n",
      "93/93 [==============================] - 9s 92ms/step - loss: 1.5014 - accuracy: 0.4422 - val_loss: 1.7632 - val_accuracy: 0.4540\n",
      "Epoch 12/20\n",
      "93/93 [==============================] - 9s 95ms/step - loss: 1.4715 - accuracy: 0.4536 - val_loss: 1.3024 - val_accuracy: 0.5280\n",
      "Epoch 13/20\n",
      "93/93 [==============================] - 9s 96ms/step - loss: 1.4607 - accuracy: 0.4678 - val_loss: 1.4198 - val_accuracy: 0.4900\n",
      "Epoch 14/20\n",
      "93/93 [==============================] - 9s 95ms/step - loss: 1.4505 - accuracy: 0.4669 - val_loss: 1.5254 - val_accuracy: 0.4590\n",
      "Epoch 15/20\n",
      "93/93 [==============================] - 8s 90ms/step - loss: 1.4444 - accuracy: 0.4731 - val_loss: 1.4341 - val_accuracy: 0.5055\n",
      "Epoch 16/20\n",
      "93/93 [==============================] - 10s 101ms/step - loss: 1.4353 - accuracy: 0.4722 - val_loss: 1.3540 - val_accuracy: 0.5300\n",
      "Epoch 17/20\n",
      "93/93 [==============================] - 10s 111ms/step - loss: 1.4290 - accuracy: 0.4714 - val_loss: 1.3554 - val_accuracy: 0.5105\n",
      "Epoch 18/20\n",
      "93/93 [==============================] - 10s 109ms/step - loss: 1.3857 - accuracy: 0.4965 - val_loss: 1.2880 - val_accuracy: 0.5335\n",
      "Epoch 19/20\n",
      "93/93 [==============================] - 9s 98ms/step - loss: 1.3603 - accuracy: 0.5007 - val_loss: 1.6429 - val_accuracy: 0.4805\n",
      "Epoch 20/20\n",
      "93/93 [==============================] - 9s 91ms/step - loss: 1.3802 - accuracy: 0.4960 - val_loss: 1.3630 - val_accuracy: 0.5155\n"
     ]
    }
   ],
   "source": [
    "model = Model(inputs = inputShape,outputs = out)\n",
    "model.compile(loss=losses.SparseCategoricalCrossentropy(),optimizer=optimizers.Adam(),metrics=['accuracy'])\n",
    "history = model.fit(donnee_ganerator_train.flow(x_train, y_train.flatten(), batch_size=64), steps_per_epoch=len(x_train) / 512, epochs=20, validation_data=donnee_ganerator_test.flow(x_val, y_val.flatten(), batch_size=64))"
   ]
  },
  {
   "cell_type": "code",
   "execution_count": 77,
   "id": "d628d2e6",
   "metadata": {},
   "outputs": [
    {
     "data": {
      "image/png": "[encoded data removed]",
      "text/plain": [
       "<Figure size 432x288 with 1 Axes>"
      ]
     },
     "metadata": {
      "needs_background": "light"
     },
     "output_type": "display_data"
    },
    {
     "data": {
      "image/png": "[encoded data removed]",
      "text/plain": [
       "<Figure size 432x288 with 1 Axes>"
      ]
     },
     "metadata": {
      "needs_background": "light"
     },
     "output_type": "display_data"
    }
   ],
   "source": [
    "import matplotlib.pyplot as plt\n",
    "acc=history.history['accuracy']\n",
    "val_acc=history.history['val_accuracy']\n",
    "loss=history.history['loss']\n",
    "val_loss=history.history['val_loss']\n",
    "\n",
    "epochs=range(1, len(acc)+1)\n",
    "\n",
    "#plot accuracy:\n",
    "plt.plot(epochs, acc, 'bo', label='Training acc')\n",
    "plt.plot(epochs, val_acc, 'b', label='Validation_acc')\n",
    "plt.title('Training and Validation accuracy')\n",
    "plt.legend()\n",
    "\n",
    "#plot loss:\n",
    "plt.figure()\n",
    "plt.plot(epochs, loss, 'bo', label='Training loss')\n",
    "plt.plot(epochs, val_loss, 'b', label='Validation loss')\n",
    "plt.title('Training and Validation loss')\n",
    "plt.legend()\n",
    "plt.show()"
   ]
  },
  {
   "cell_type": "code",
   "execution_count": 78,
   "id": "faa179b8",
   "metadata": {},
   "outputs": [],
   "source": [
    "model.save('HW4_cifar10_question_c_model_with_inception_block.hdf5')"
   ]
  },
  {
   "cell_type": "code",
   "execution_count": null,
   "id": "fa34fa0a",
   "metadata": {},
   "outputs": [],
   "source": []
  }
 ],
 "metadata": {
  "kernelspec": {
   "display_name": "gpu2",
   "language": "python",
   "name": "gpu2"
  },
  "language_info": {
   "codemirror_mode": {
    "name": "ipython",
    "version": 3
   },
   "file_extension": ".py",
   "mimetype": "text/x-python",
   "name": "python",
   "nbconvert_exporter": "python",
   "pygments_lexer": "ipython3",
   "version": "3.11.5"
  }
 },
 "nbformat": 4,
 "nbformat_minor": 5
}
